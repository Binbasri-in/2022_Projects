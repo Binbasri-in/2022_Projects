{
 "cells": [
  {
   "cell_type": "code",
   "execution_count": 6,
   "metadata": {},
   "outputs": [],
   "source": [
    "import re\n",
    "with open('D:\\python\\Coursera\\Forage\\web_activity.log', 'r') as file:\n",
    "    logs = file.read()\n",
    "log = logs.split('\\n\\n')"
   ]
  },
  {
   "cell_type": "code",
   "execution_count": 18,
   "metadata": {},
   "outputs": [],
   "source": [
    "#length of each request\n",
    "length = []\n",
    "for l in log:\n",
    "    length.append(len(re.findall('\\d{3} ', l)))\n",
    "\n",
    "for i in range(len(length)):\n",
    "    if length[i] == 138:\n",
    "        found = i\n",
    "        break\n",
    "log[found]\n",
    "with open('found.txt', 'w') as f:\n",
    "    f.write(log[found])"
   ]
  }
 ],
 "metadata": {
  "interpreter": {
   "hash": "369f2c481f4da34e4445cda3fffd2e751bd1c4d706f27375911949ba6bb62e1c"
  },
  "kernelspec": {
   "display_name": "Python 3.10.4 64-bit",
   "language": "python",
   "name": "python3"
  },
  "language_info": {
   "codemirror_mode": {
    "name": "ipython",
    "version": 3
   },
   "file_extension": ".py",
   "mimetype": "text/x-python",
   "name": "python",
   "nbconvert_exporter": "python",
   "pygments_lexer": "ipython3",
   "version": "3.10.4"
  },
  "orig_nbformat": 4
 },
 "nbformat": 4,
 "nbformat_minor": 2
}
