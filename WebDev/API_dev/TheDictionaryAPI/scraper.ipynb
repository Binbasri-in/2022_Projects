{
 "cells": [
  {
   "cell_type": "code",
   "execution_count": null,
   "metadata": {},
   "outputs": [],
   "source": []
  },
  {
   "cell_type": "code",
   "execution_count": 1,
   "metadata": {},
   "outputs": [],
   "source": [
    "# use wrpy to scrape and get information of the given word\n",
    "# import wrpy\n",
    "from wrpy import WordReference\n",
    "\n",
    "# create a scraper for english to arabic\n",
    "wr = WordReference('en', 'ar')\n"
   ]
  },
  {
   "cell_type": "code",
   "execution_count": 28,
   "metadata": {},
   "outputs": [],
   "source": [
    "# try it\n",
    "data = wr.translate('white')"
   ]
  },
  {
   "cell_type": "code",
   "execution_count": null,
   "metadata": {},
   "outputs": [],
   "source": [
    "{'word': 'hello',\n",
    " 'from_lang': 'English',\n",
    " 'to_lang': 'Arabic',\n",
    " 'url': 'https://www.wordreference.com/enar/hello',\n",
    " 'translations': [{'title': 'Principal Translations',\n",
    "   'entries': [{'from_word': {'source': 'hello, also UK: hallo, hullo',\n",
    "      'grammar': 'interj'},\n",
    "     'to_word': [{'meaning': 'مرحبًا', 'notes': None, 'grammar': None}],\n",
    "     'context': 'greeting',\n",
    "     'from_example': 'Hello.  How are you?',\n",
    "     'to_example': ['مرحبًا، كيف حالك؟']},\n",
    "    {'from_word': {'source': 'hello', 'grammar': 'n'},\n",
    "     'to_word': [{'meaning': 'تحية', 'notes': None, 'grammar': None},\n",
    "      {'meaning': 'يسلّم، تسليم', 'notes': None, 'grammar': None}],\n",
    "     'context': 'spoken greeting',\n",
    "     'from_example': \"Give Gina a hello from me when you see her!  I'll come back and talk to you when I finish my hellos.\",\n",
    "     'to_example': ['سلّم على جينا عندما تراها. سأعود وأتحدّث معك عندما أنتهي من التسليم.']},\n",
    "    {'from_word': {'source': 'hello', 'grammar': 'interj'},\n",
    "     'to_word': [{'meaning': 'ألو', 'notes': None, 'grammar': None}],\n",
    "     'context': 'phone greeting',\n",
    "     'from_example': 'Emma swiped her phone to answer the call and said, \"Hello?\"',\n",
    "     'to_example': ['سحبت إيما إصبعها على هاتفها لتردّ على المكالمة ثم قالت: \"ألو؟\".']},\n",
    "    {'from_word': {'source': 'hello!', 'grammar': 'interj'},\n",
    "     'to_word': [{'meaning': 'هالو،تعبير يدل على الدهشة',\n",
    "       'notes': None,\n",
    "       'grammar': None}],\n",
    "     'context': 'expressing surprise',\n",
    "     'from_example': \"Hello! I didn't even see that car there.\",\n",
    "     'to_example': []},\n",
    "    {'from_word': {'source': 'hello!', 'grammar': 'interj'},\n",
    "     'to_word': [{'meaning': 'هالو،تعبير يدل على الإهتمام',\n",
    "       'notes': None,\n",
    "       'grammar': None}],\n",
    "     'context': 'expressing interest',\n",
    "     'from_example': 'Hello! Are you from this area?',\n",
    "     'to_example': []},\n",
    "    {'from_word': {'source': 'hello!', 'grammar': 'interj'},\n",
    "     'to_word': [{'meaning': 'ما بك؟', 'notes': None, 'grammar': None}],\n",
    "     'context': 'expressing sarcasm or annoyance',\n",
    "     'from_example': 'And I was like, hello! Are you serious?',\n",
    "     'to_example': []}]},\n",
    "  {'title': 'Compound Forms',\n",
    "   'entries': [{'from_word': {'source': 'say hello', 'grammar': 'v expr'},\n",
    "     'to_word': [{'meaning': 'يحيّي، يسلّم', 'notes': None, 'grammar': None}],\n",
    "     'context': 'greet [sb]',\n",
    "     'from_example': 'I say hello to my neighbors every time I see them.',\n",
    "     'to_example': []}]}]}"
   ]
  },
  {
   "cell_type": "code",
   "execution_count": 29,
   "metadata": {},
   "outputs": [
    {
     "data": {
      "text/plain": [
       "'white'"
      ]
     },
     "execution_count": 29,
     "metadata": {},
     "output_type": "execute_result"
    }
   ],
   "source": [
    "data['word']"
   ]
  },
  {
   "cell_type": "code",
   "execution_count": 30,
   "metadata": {},
   "outputs": [
    {
     "data": {
      "text/plain": [
       "[{'from_word': {'source': 'white', 'grammar': 'n'},\n",
       "  'to_word': [{'meaning': 'أبيض', 'notes': None, 'grammar': None}],\n",
       "  'context': 'palest colour',\n",
       "  'from_example': 'Do you have this dress in white or black?',\n",
       "  'to_example': []},\n",
       " {'from_word': {'source': 'white', 'grammar': 'adj'},\n",
       "  'to_word': [{'meaning': 'أبيض', 'notes': 'لون', 'grammar': None}],\n",
       "  'context': 'white in colour',\n",
       "  'from_example': 'She printed the document on white paper.',\n",
       "  'to_example': ['طبعت المستند على ورق أبيض.']},\n",
       " {'from_word': {'source': 'white', 'grammar': 'adj'},\n",
       "  'to_word': [{'meaning': 'أبيض، فاتح',\n",
       "    'notes': 'لون البشرة',\n",
       "    'grammar': None}],\n",
       "  'context': 'skin: pale',\n",
       "  'from_example': \"My skin's naturally so white that I never tan.\",\n",
       "  'to_example': ['بشرتي بيضاء جدًّا بشكل طبيعيّ ولا أسمرّ أبدًا.']},\n",
       " {'from_word': {'source': 'white', 'grammar': 'adj'},\n",
       "  'to_word': [{'meaning': 'أبيض',\n",
       "    'notes': 'من الناحية العرقية',\n",
       "    'grammar': None}],\n",
       "  'context': 'fair-skinned',\n",
       "  'from_example': 'While there are many white people in this city, the number of other races has increased dramatically.',\n",
       "  'to_example': ['مع أنه هناك الكثير من البيض في هذه المدينة، إلا أن عدد الأشخاص من العروق الأخرى قد ازداد بشكل ملحوظ.']},\n",
       " {'from_word': {'source': 'white', 'grammar': 'n'},\n",
       "  'to_word': [{'meaning': 'زلال، بياض', 'notes': None, 'grammar': None}],\n",
       "  'context': 'egg white',\n",
       "  'from_example': 'Separate the white of the egg from the yolk.',\n",
       "  'to_example': []},\n",
       " {'from_word': {'source': 'white', 'grammar': 'adj'},\n",
       "  'to_word': [{'meaning': 'بالحليب', 'notes': 'قهوة', 'grammar': None}],\n",
       "  'context': 'coffee: milky',\n",
       "  'from_example': \"My husband doesn't like milk in his coffee, but I take mine white.\",\n",
       "  'to_example': []},\n",
       " {'from_word': {'source': 'white', 'grammar': 'adj'},\n",
       "  'to_word': [{'meaning': 'أبيض', 'notes': 'نبيذ', 'grammar': None}],\n",
       "  'context': 'wine: Chardonnay, etc.',\n",
       "  'from_example': 'We usually drink white wine with fish.',\n",
       "  'to_example': []},\n",
       " {'from_word': {'source': 'white', 'grammar': 'n'},\n",
       "  'to_word': [{'meaning': 'أبيض',\n",
       "    'notes': 'القطعة البيضاء في الألعاب',\n",
       "    'grammar': None}],\n",
       "  'context': 'white piece in games',\n",
       "  'from_example': 'Do you want to be white or black in the chess match?',\n",
       "  'to_example': ['هل تريد الأبيض أم الأسود في لعبة الشطرنج؟']}]"
      ]
     },
     "execution_count": 30,
     "metadata": {},
     "output_type": "execute_result"
    }
   ],
   "source": [
    "data['translations'][0]['entries']"
   ]
  }
 ],
 "metadata": {
  "kernelspec": {
   "display_name": "flask_dev",
   "language": "python",
   "name": "python3"
  },
  "language_info": {
   "codemirror_mode": {
    "name": "ipython",
    "version": 3
   },
   "file_extension": ".py",
   "mimetype": "text/x-python",
   "name": "python",
   "nbconvert_exporter": "python",
   "pygments_lexer": "ipython3",
   "version": "3.10.8"
  },
  "orig_nbformat": 4,
  "vscode": {
   "interpreter": {
    "hash": "a3fa3081b50fa09a9526c08456e650dd4220e868f02580e94fe71c1b57a2a251"
   }
  }
 },
 "nbformat": 4,
 "nbformat_minor": 2
}
