{
 "cells": [
  {
   "cell_type": "markdown",
   "metadata": {},
   "source": [
    "# App_reviews scraper and basic analysis"
   ]
  },
  {
   "cell_type": "markdown",
   "metadata": {},
   "source": [
    "- fetch reviews of an application from play store \n",
    "- create a dataframe of the latest 1000 max reviews\n",
    "- apply basic sentiment analysis with nltk"
   ]
  },
  {
   "cell_type": "code",
   "execution_count": 1,
   "metadata": {},
   "outputs": [],
   "source": [
    "# Importing the libraries\n",
    "import pandas as pd\n",
    "import numpy as np\n",
    "\n",
    "# libraries for the scraper\n",
    "from google_play_scraper import app, Sort, reviews_all\n"
   ]
  },
  {
   "cell_type": "code",
   "execution_count": 2,
   "metadata": {},
   "outputs": [],
   "source": [
    "# get the app_id as in the URL (https://play.google.com/store/apps/details?id='com.Splitwise.SplitwiseMobile')\n",
    "app_name = \"splitwise\"\n",
    "app_id = \"com.Splitwise.SplitwiseMobile\""
   ]
  },
  {
   "cell_type": "code",
   "execution_count": 3,
   "metadata": {},
   "outputs": [],
   "source": [
    "# fetch the reviews from play store\n",
    "app_reviews = reviews_all(\n",
    "                            app_id,\n",
    "                            sleep_milliseconds=0, # defaults to 0\n",
    "                            lang='en', # defaults to 'en'\n",
    "                            country='in', # defaults to 'us'\n",
    "                            sort=Sort.NEWEST, # defaults to Sort.MOST_RELEVANT\n",
    "                        )"
   ]
  },
  {
   "cell_type": "code",
   "execution_count": 6,
   "metadata": {},
   "outputs": [],
   "source": [
    "# create the dataframe for the reviews\n",
    "app_reviews_df = pd.DataFrame(np.array(app_reviews),columns=['content'])\n",
    "app_reviews_df = app_reviews_df.join(pd.DataFrame(app_reviews_df.pop('content').tolist()))"
   ]
  },
  {
   "cell_type": "code",
   "execution_count": 7,
   "metadata": {},
   "outputs": [],
   "source": [
    "# get the latest 1000 reviews\n",
    "app_reviews_df = app_reviews_df.sort_values(by=['at'],ascending=False).head(1000)\n",
    "app_reviews_df.rename(columns={'content':'review'},inplace=True)"
   ]
  },
  {
   "cell_type": "code",
   "execution_count": 8,
   "metadata": {},
   "outputs": [],
   "source": [
    "# save the data in a csv file\n",
    "app_reviews_df.to_csv(f'play_store Reviews of {app_name}.csv')"
   ]
  },
  {
   "cell_type": "markdown",
   "metadata": {},
   "source": [
    "### Next is the Basic Sentiment Analysis using nltk "
   ]
  },
  {
   "cell_type": "code",
   "execution_count": 9,
   "metadata": {},
   "outputs": [
    {
     "name": "stderr",
     "output_type": "stream",
     "text": [
      "[nltk_data] Downloading package vader_lexicon to\n",
      "[nltk_data]     C:\\Users\\Binba\\AppData\\Roaming\\nltk_data...\n",
      "[nltk_data]   Package vader_lexicon is already up-to-date!\n"
     ]
    }
   ],
   "source": [
    "# Importing the libraries\n",
    "import nltk\n",
    "nltk.download('vader_lexicon')\n",
    "from nltk.sentiment.vader import SentimentIntensityAnalyzer\n",
    "sid = SentimentIntensityAnalyzer()"
   ]
  },
  {
   "cell_type": "code",
   "execution_count": 10,
   "metadata": {},
   "outputs": [],
   "source": [
    "# Creating a new column 'Compound' which contains the polarity scores\n",
    "app_reviews_df['Compound'] = app_reviews_df['review'].apply(lambda x: sid.polarity_scores(x)['compound'])"
   ]
  },
  {
   "cell_type": "code",
   "execution_count": 11,
   "metadata": {},
   "outputs": [],
   "source": [
    "# Creating a new column 'Sentiment' which classifies the polarity scores\n",
    "app_reviews_df['Sentiment'] = app_reviews_df['Compound'].apply(lambda x: 'Positive' if x >=0 else 'Negative')"
   ]
  },
  {
   "cell_type": "code",
   "execution_count": 12,
   "metadata": {},
   "outputs": [
    {
     "name": "stdout",
     "output_type": "stream",
     "text": [
      "                               reviewId            userName  \\\n",
      "0  e456470a-8e88-4d5d-889b-a2cb80eba094        Héctor Pérez   \n",
      "1  8e90e567-b8d5-454f-8e21-5902b93901f5    muthu thirumaran   \n",
      "2  34cfe56e-2c6d-45cd-b631-6765d23dd246      Manthan Mirgal   \n",
      "3  d0653d08-3cc3-4500-8e5b-f1816c9d6616    om prakash dubey   \n",
      "4  a71fcf02-14df-470c-8bc8-64e88ef40b23        Marcell Tóth   \n",
      "5  1ad29a6e-8900-4ab0-bbe2-39232da43b99         mohan yadav   \n",
      "6  3d8d837a-f4fe-4bee-b285-e0107a40364e  rose marie alegado   \n",
      "7  2b06217e-c0a9-43f2-8f01-18706df39191    Charles Phillips   \n",
      "8  bfdcdf52-a85f-4703-b5fa-d21656c5bc23  Arjya Bhattacharya   \n",
      "9  68299d07-87ce-45e2-8c33-3494774198cd        Michael Cook   \n",
      "\n",
      "                                           userImage  \\\n",
      "0  https://play-lh.googleusercontent.com/a-/AFdZu...   \n",
      "1  https://play-lh.googleusercontent.com/a-/AFdZu...   \n",
      "2  https://play-lh.googleusercontent.com/a-/AFdZu...   \n",
      "3  https://play-lh.googleusercontent.com/a/AItbvm...   \n",
      "4  https://play-lh.googleusercontent.com/a/AItbvm...   \n",
      "5  https://play-lh.googleusercontent.com/a-/AFdZu...   \n",
      "6  https://play-lh.googleusercontent.com/a-/AFdZu...   \n",
      "7  https://play-lh.googleusercontent.com/a-/AFdZu...   \n",
      "8  https://play-lh.googleusercontent.com/a-/AFdZu...   \n",
      "9  https://play-lh.googleusercontent.com/a/AItbvm...   \n",
      "\n",
      "                                              review  score  thumbsUpCount  \\\n",
      "0  Justo lo que necesitaba. Simple y rápido. No t...      5              0   \n",
      "1  Fantastic app...i would highly recommend it......      5              0   \n",
      "2            Great app, very useful and easy to use.      5              0   \n",
      "3                          Good solution, no tension      4              0   \n",
      "4  Looks great but you should implement the optio...      3              0   \n",
      "5  Bought the pro version but the Scan receipt is...      3              0   \n",
      "6                                             ❤️❤️❤️      5              0   \n",
      "7  This app is horrible! Never makes sense and it...      2              0   \n",
      "8                                     Very effective      5              0   \n",
      "9  Pointless if you can't send money directly thr...      1              0   \n",
      "\n",
      "  reviewCreatedVersion                  at  \\\n",
      "0                  5.3 2022-09-10 06:11:40   \n",
      "1                  5.3 2022-09-10 00:12:50   \n",
      "2                  5.3 2022-09-09 20:30:32   \n",
      "3                  5.3 2022-09-08 21:31:09   \n",
      "4                  5.3 2022-09-08 21:06:43   \n",
      "5                  5.3 2022-09-08 13:27:48   \n",
      "6                  5.3 2022-09-08 09:42:47   \n",
      "7                 None 2022-09-08 03:48:13   \n",
      "8                  5.3 2022-09-08 03:32:06   \n",
      "9                  5.3 2022-09-07 22:20:18   \n",
      "\n",
      "                                        replyContent           repliedAt  \\\n",
      "0                                               None                 NaT   \n",
      "1                                               None                 NaT   \n",
      "2                                               None                 NaT   \n",
      "3                                               None                 NaT   \n",
      "4  We hear what you're saying and would love to g... 2022-09-09 11:41:10   \n",
      "5  So sorry for the trouble! Please send a note a... 2022-09-08 21:05:52   \n",
      "6                                               None                 NaT   \n",
      "7  Sorry you had a bad experience with Splitwise!... 2022-09-08 10:46:33   \n",
      "8                                               None                 NaT   \n",
      "9  Sorry you had a bad experience with Splitwise!... 2022-09-08 10:46:21   \n",
      "\n",
      "   Compound Sentiment  \n",
      "0   -0.2960  Negative  \n",
      "1    0.8540  Positive  \n",
      "2    0.8874  Positive  \n",
      "3    0.1779  Positive  \n",
      "4    0.5713  Positive  \n",
      "5    0.0000  Positive  \n",
      "6    0.0000  Positive  \n",
      "7   -0.7350  Negative  \n",
      "8    0.5256  Positive  \n",
      "9    0.3612  Positive  \n",
      "Positive    87.8\n",
      "Negative    12.2\n",
      "Name: Sentiment, dtype: float64\n"
     ]
    }
   ],
   "source": [
    "# Printing the first 10 rows of the data\n",
    "print(app_reviews_df.head(10))\n",
    "\n",
    "# Printing the percentage of positive and negative reviews\n",
    "print(app_reviews_df['Sentiment'].value_counts(normalize=True) * 100)"
   ]
  },
  {
   "cell_type": "code",
   "execution_count": 13,
   "metadata": {},
   "outputs": [
    {
     "data": {
      "text/plain": [
       "<AxesSubplot:>"
      ]
     },
     "execution_count": 13,
     "metadata": {},
     "output_type": "execute_result"
    },
    {
     "data": {
      "image/png": "[encoded data removed]",
      "text/plain": [
       "<Figure size 360x360 with 1 Axes>"
      ]
     },
     "metadata": {
      "needs_background": "light"
     },
     "output_type": "display_data"
    }
   ],
   "source": [
    "# plot the results of negative and posative reviews\n",
    "x  = app_reviews_df['Sentiment'].value_counts(normalize=True) * 100\n",
    "\n",
    "x.plot(kind='bar',figsize=(5,5))"
   ]
  },
  {
   "cell_type": "code",
   "execution_count": 14,
   "metadata": {},
   "outputs": [
    {
     "data": {
      "text/plain": [
       "<AxesSubplot:>"
      ]
     },
     "execution_count": 14,
     "metadata": {},
     "output_type": "execute_result"
    },
    {
     "data": {
      "image/png": "[encoded data removed]",
      "text/plain": [
       "<Figure size 360x360 with 1 Axes>"
      ]
     },
     "metadata": {
      "needs_background": "light"
     },
     "output_type": "display_data"
    }
   ],
   "source": [
    "# plot the persentage of stars rating of the app\n",
    "y = app_reviews_df['score'].value_counts(normalize=True) * 100\n",
    "y.to_frame().plot(kind='bar',figsize=(5,5))"
   ]
  },
  {
   "cell_type": "code",
   "execution_count": null,
   "metadata": {},
   "outputs": [],
   "source": [
    "# export the dataframe of results to a csv file\n",
    "app_reviews_df.to_csv(f'play_store Review {app_name} with Sentiment.csv')"
   ]
  }
 ],
 "metadata": {
  "kernelspec": {
   "display_name": "Python 3.10.4 64-bit",
   "language": "python",
   "name": "python3"
  },
  "language_info": {
   "codemirror_mode": {
    "name": "ipython",
    "version": 3
   },
   "file_extension": ".py",
   "mimetype": "text/x-python",
   "name": "python",
   "nbconvert_exporter": "python",
   "pygments_lexer": "ipython3",
   "version": "3.10.4"
  },
  "orig_nbformat": 4,
  "vscode": {
   "interpreter": {
    "hash": "369f2c481f4da34e4445cda3fffd2e751bd1c4d706f27375911949ba6bb62e1c"
   }
  }
 },
 "nbformat": 4,
 "nbformat_minor": 2
}
