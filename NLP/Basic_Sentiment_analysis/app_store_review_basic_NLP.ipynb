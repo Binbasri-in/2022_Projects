{
 "cells": [
  {
   "cell_type": "markdown",
   "metadata": {},
   "source": [
    "# App_reviews scraper and basic analysis"
   ]
  },
  {
   "cell_type": "markdown",
   "metadata": {},
   "source": [
    "- fetch reviews of an application from app store \n",
    "- create a dataframe of the latest 1000 max reviews\n",
    "- apply basic sentiment analysis with nltk"
   ]
  },
  {
   "cell_type": "code",
   "execution_count": 2,
   "metadata": {},
   "outputs": [],
   "source": [
    "# Importing the libraries\n",
    "import pandas as pd\n",
    "import numpy as np\n",
    "\n",
    "# libraries for the scraper\n",
    "from app_store_scraper import AppStore\n"
   ]
  },
  {
   "cell_type": "code",
   "execution_count": 3,
   "metadata": {},
   "outputs": [],
   "source": [
    "# get the app_name and app_id as in the URL (https://apps.apple.com/us/app/'splitwise'/id'458023433')\n",
    "app_name = \"splitwise\"\n",
    "app_id = \"458023433\""
   ]
  },
  {
   "cell_type": "code",
   "execution_count": 4,
   "metadata": {},
   "outputs": [
    {
     "name": "stderr",
     "output_type": "stream",
     "text": [
      "2022-09-11 08:11:04,774 [INFO] Base - Initialised: AppStore('in', 'splitwise', 458023433)\n",
      "2022-09-11 08:11:04,775 [INFO] Base - Ready to fetch reviews from: https://apps.apple.com/in/app/splitwise/id458023433\n",
      "2022-09-11 08:11:09,809 [INFO] Base - [id:458023433] Fetched 100 reviews (100 fetched in total)\n",
      "2022-09-11 08:11:16,559 [INFO] Base - [id:458023433] Fetched 240 reviews (240 fetched in total)\n",
      "2022-09-11 08:11:23,285 [INFO] Base - [id:458023433] Fetched 380 reviews (380 fetched in total)\n",
      "2022-09-11 08:11:29,803 [INFO] Base - [id:458023433] Fetched 520 reviews (520 fetched in total)\n",
      "2022-09-11 08:11:35,809 [INFO] Base - [id:458023433] Fetched 640 reviews (640 fetched in total)\n",
      "2022-09-11 08:11:42,359 [INFO] Base - [id:458023433] Fetched 780 reviews (780 fetched in total)\n",
      "2022-09-11 08:11:48,464 [INFO] Base - [id:458023433] Fetched 900 reviews (900 fetched in total)\n",
      "2022-09-11 08:11:55,344 [INFO] Base - [id:458023433] Fetched 1040 reviews (1040 fetched in total)\n",
      "2022-09-11 08:12:01,753 [INFO] Base - [id:458023433] Fetched 1160 reviews (1160 fetched in total)\n",
      "2022-09-11 08:12:08,550 [INFO] Base - [id:458023433] Fetched 1300 reviews (1300 fetched in total)\n",
      "2022-09-11 08:12:34,474 [INFO] Base - [id:458023433] Fetched 1440 reviews (1440 fetched in total)\n",
      "2022-09-11 08:12:40,539 [INFO] Base - [id:458023433] Fetched 1560 reviews (1560 fetched in total)\n",
      "2022-09-11 08:12:46,805 [INFO] Base - [id:458023433] Fetched 1700 reviews (1700 fetched in total)\n",
      "2022-09-11 08:12:50,722 [INFO] Base - [id:458023433] Fetched 1771 reviews (1771 fetched in total)\n"
     ]
    }
   ],
   "source": [
    "# fetch the reviews from the app store\n",
    "app = AppStore(country='in', app_name=app_name, app_id = app_id)\n",
    "app.review(how_many=3000)\n",
    "app_reviews = app.reviews"
   ]
  },
  {
   "cell_type": "code",
   "execution_count": 5,
   "metadata": {},
   "outputs": [],
   "source": [
    "# create the data frame for the reviews\n",
    "app_reviews_df = pd.DataFrame(np.array(app_reviews),columns=['review'])\n",
    "app_reviews_df = app_reviews_df.join(pd.DataFrame(app_reviews_df.pop('review').tolist()))\n"
   ]
  },
  {
   "cell_type": "code",
   "execution_count": 6,
   "metadata": {},
   "outputs": [],
   "source": [
    "# create a list of the latest 1000 reviews\n",
    "app_reviews_df = app_reviews_df.sort_values(by=['date'],ascending=False).head(1000)"
   ]
  },
  {
   "cell_type": "code",
   "execution_count": 7,
   "metadata": {},
   "outputs": [],
   "source": [
    "# save the data in a csv file\n",
    "app_reviews_df.to_csv(f'app_store Reviews of {app_name}.csv')"
   ]
  },
  {
   "cell_type": "markdown",
   "metadata": {},
   "source": [
    "### Next is the Basic Sentiment Analysis using nltk "
   ]
  },
  {
   "cell_type": "code",
   "execution_count": 8,
   "metadata": {},
   "outputs": [
    {
     "name": "stderr",
     "output_type": "stream",
     "text": [
      "[nltk_data] Downloading package vader_lexicon to\n",
      "[nltk_data]     C:\\Users\\Binba\\AppData\\Roaming\\nltk_data...\n",
      "[nltk_data]   Package vader_lexicon is already up-to-date!\n"
     ]
    }
   ],
   "source": [
    "# Importing the libraries\n",
    "import nltk\n",
    "nltk.download('vader_lexicon')\n",
    "from nltk.sentiment.vader import SentimentIntensityAnalyzer\n",
    "sid = SentimentIntensityAnalyzer()"
   ]
  },
  {
   "cell_type": "code",
   "execution_count": 9,
   "metadata": {},
   "outputs": [],
   "source": [
    "# Creating a new column 'Compound' which contains the polarity scores\n",
    "app_reviews_df['Compound'] = app_reviews_df['review'].apply(lambda x: sid.polarity_scores(x)['compound'])"
   ]
  },
  {
   "cell_type": "code",
   "execution_count": 10,
   "metadata": {},
   "outputs": [],
   "source": [
    "# Creating a new column 'Sentiment' which classifies the polarity scores\n",
    "app_reviews_df['Sentiment'] = app_reviews_df['Compound'].apply(lambda x: 'Positive' if x >=0 else 'Negative')"
   ]
  },
  {
   "cell_type": "code",
   "execution_count": 11,
   "metadata": {},
   "outputs": [
    {
     "name": "stdout",
     "output_type": "stream",
     "text": [
      "                                             title  rating  \\\n",
      "461                                        6 years       5   \n",
      "201                   Simple easy and does the job       5   \n",
      "189                                      Excellent       5   \n",
      "157                                Simply the BEST       5   \n",
      "224  Unable to change amount after adding in group       1   \n",
      "385                                Very convenient       5   \n",
      "462                              Thanks super app…       5   \n",
      "739                                       Good app       5   \n",
      "672                     Showing incorrect Balances       1   \n",
      "146                                       Best app       5   \n",
      "\n",
      "                                                review          userName  \\\n",
      "461                                       And counting     Chandan_Anand   \n",
      "201                                          Perfectly    Ab14049@iphone   \n",
      "189  App simplifies the group spending and keeps th...      Sangameshwar   \n",
      "157  Never thought using this app will give so much...  Bhavyesh Acharya   \n",
      "224  I have added some amount paid by me and split ...      Nilesh Sodha   \n",
      "385                  A must use app for group expanses            hvk_03   \n",
      "462  Very nice app. Please consider integrating pay...      PraveenKarki   \n",
      "739                          Nice for sharing expenses        jackspidey   \n",
      "672  Whole algorithm is wrong of the app. Users ple...   sanjeevshukla18   \n",
      "146  Bestest app which can be used for maintaining ...        wafflenyou   \n",
      "\n",
      "                   date  isEdited  \\\n",
      "461 2022-09-07 09:01:44     False   \n",
      "201 2022-09-07 06:16:04     False   \n",
      "189 2022-09-06 11:59:29     False   \n",
      "157 2022-09-03 03:09:52     False   \n",
      "224 2022-09-01 03:53:36     False   \n",
      "385 2022-08-29 07:43:15     False   \n",
      "462 2022-08-27 18:12:51     False   \n",
      "739 2022-08-25 19:21:26     False   \n",
      "672 2022-08-20 14:10:04     False   \n",
      "146 2022-08-17 17:35:55     False   \n",
      "\n",
      "                                     developerResponse  Compound Sentiment  \n",
      "461                                                NaN    0.0000  Positive  \n",
      "201                                                NaN    0.6369  Positive  \n",
      "189                                                NaN    0.7841  Positive  \n",
      "157                                                NaN    0.8214  Positive  \n",
      "224  {'id': 31811055, 'body': 'Sorry for any confus...    0.0000  Positive  \n",
      "385                                                NaN    0.0000  Positive  \n",
      "462                                                NaN    0.6865  Positive  \n",
      "739                                                NaN    0.6808  Positive  \n",
      "672  {'id': 31609925, 'body': 'Sorry you had a bad ...   -0.0516  Negative  \n",
      "146                                                NaN    0.6801  Positive  \n",
      "Positive    93.6\n",
      "Negative     6.4\n",
      "Name: Sentiment, dtype: float64\n"
     ]
    }
   ],
   "source": [
    "# Printing the first 10 rows of the data\n",
    "print(app_reviews_df.head(10))\n",
    "\n",
    "# Printing the percentage of positive and negative reviews\n",
    "print(app_reviews_df['Sentiment'].value_counts(normalize=True) * 100)"
   ]
  },
  {
   "cell_type": "code",
   "execution_count": 14,
   "metadata": {},
   "outputs": [
    {
     "data": {
      "text/plain": [
       "<AxesSubplot:>"
      ]
     },
     "execution_count": 14,
     "metadata": {},
     "output_type": "execute_result"
    },
    {
     "data": {
      "image/png": "[encoded data removed]",
      "text/plain": [
       "<Figure size 360x360 with 1 Axes>"
      ]
     },
     "metadata": {
      "needs_background": "light"
     },
     "output_type": "display_data"
    }
   ],
   "source": [
    "# plot the results of negative and posative reviews\n",
    "x  = app_reviews_df['Sentiment'].value_counts(normalize=True) * 100\n",
    "\n",
    "x.plot(kind='bar',figsize=(5,5))"
   ]
  },
  {
   "cell_type": "code",
   "execution_count": 21,
   "metadata": {},
   "outputs": [
    {
     "data": {
      "text/plain": [
       "<AxesSubplot:>"
      ]
     },
     "execution_count": 21,
     "metadata": {},
     "output_type": "execute_result"
    },
    {
     "data": {
      "image/png": "[encoded data removed]",
      "text/plain": [
       "<Figure size 360x360 with 1 Axes>"
      ]
     },
     "metadata": {
      "needs_background": "light"
     },
     "output_type": "display_data"
    }
   ],
   "source": [
    "# plot the persentage of stars rating of the app\n",
    "y = app_reviews_df['rating'].value_counts(normalize=True) * 100\n",
    "y.to_frame().plot(kind='bar',figsize=(5,5))"
   ]
  },
  {
   "cell_type": "code",
   "execution_count": 12,
   "metadata": {},
   "outputs": [],
   "source": [
    "# export the dataframe of results to a csv file\n",
    "app_reviews_df.to_csv(f'app_store Review {app_name} with Sentiment.csv')"
   ]
  }
 ],
 "metadata": {
  "kernelspec": {
   "display_name": "Python 3.10.4 64-bit",
   "language": "python",
   "name": "python3"
  },
  "language_info": {
   "codemirror_mode": {
    "name": "ipython",
    "version": 3
   },
   "file_extension": ".py",
   "mimetype": "text/x-python",
   "name": "python",
   "nbconvert_exporter": "python",
   "pygments_lexer": "ipython3",
   "version": "3.10.4"
  },
  "orig_nbformat": 4,
  "vscode": {
   "interpreter": {
    "hash": "369f2c481f4da34e4445cda3fffd2e751bd1c4d706f27375911949ba6bb62e1c"
   }
  }
 },
 "nbformat": 4,
 "nbformat_minor": 2
}
